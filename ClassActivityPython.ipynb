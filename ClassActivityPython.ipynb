{
  "nbformat": 4,
  "nbformat_minor": 0,
  "metadata": {
    "colab": {
      "provenance": []
    },
    "kernelspec": {
      "name": "python3",
      "display_name": "Python 3"
    },
    "language_info": {
      "name": "python"
    }
  },
  "cells": [
    {
      "cell_type": "markdown",
      "source": [
        "**1**"
      ],
      "metadata": {
        "id": "UybB4sLxYm5B"
      }
    },
    {
      "cell_type": "code",
      "execution_count": null,
      "metadata": {
        "colab": {
          "base_uri": "https://localhost:8080/"
        },
        "id": "QvurvhDfO1Yw",
        "outputId": "62000ed9-831a-42e4-8617-ef607896256c"
      },
      "outputs": [
        {
          "output_type": "stream",
          "name": "stdout",
          "text": [
            " The largest difference is between 1 and 110,which is 109\n"
          ]
        }
      ],
      "source": [
        "#\n",
        "inputList = [1, 2, 90, 10, 110]\n",
        "\n",
        "v1=0\n",
        "v2=0\n",
        "maxDiff=0\n",
        "for i in range(0,len(inputList)-1):\n",
        "  for j in range(i,len(inputList)):\n",
        "    if ( abs(inputList[i]-inputList[j]) > maxDiff):\n",
        "      maxDiff = abs(inputList[i]-inputList[j])\n",
        "      v1= inputList[i]\n",
        "      v2=inputList[j]\n",
        "\n",
        "print(f\" The largest difference is between {v1} and {v2},which is {maxDiff}\")"
      ]
    },
    {
      "cell_type": "markdown",
      "source": [
        "**2**"
      ],
      "metadata": {
        "id": "wmYRMZ-UYptI"
      }
    },
    {
      "cell_type": "code",
      "source": [
        "\n",
        "def FirstNonRepeatingCharacter(input):\n",
        "  isNonReapeating =True\n",
        "  for i in range(len(input)):\n",
        "        isNonReapeating = True\n",
        "        for j in range(len(input)):\n",
        "            if (i != j and input[i] == input[j]):\n",
        "                isNonReapeating = False\n",
        "                break\n",
        "        if (isNonReapeating):\n",
        "            return input[i]\n",
        "  return None\n",
        "\n",
        "print(\"This first non repeating character is : \",FirstNonRepeatingCharacter(\"aabcc\"))\n"
      ],
      "metadata": {
        "colab": {
          "base_uri": "https://localhost:8080/"
        },
        "id": "3o3Ng3ckRph5",
        "outputId": "f14f08ed-dcac-4102-dcd3-e70c064525d8"
      },
      "execution_count": null,
      "outputs": [
        {
          "output_type": "stream",
          "name": "stdout",
          "text": [
            "b\n"
          ]
        }
      ]
    },
    {
      "cell_type": "markdown",
      "source": [
        "**3**"
      ],
      "metadata": {
        "id": "KJES6rjNYq8w"
      }
    },
    {
      "cell_type": "code",
      "source": [
        "#To Check permutation\n",
        "def CheckPermutations(v1,v2):\n",
        "  dict1={}\n",
        "  dict2={}\n",
        "  for i in range(len(v1)):\n",
        "    if ( dict1.get(v1[i])):\n",
        "      dict1[v1[i]]+=1\n",
        "    else:\n",
        "      dict1[v1[i]] =1\n",
        "  for i in range(len(v2)):\n",
        "    if ( dict2.get(v2[i])):\n",
        "      dict2[v2[i]]+=1\n",
        "    else:\n",
        "      dict2[v2[i]] =1\n",
        "\n",
        "  return dict1 == dict2\n",
        "\n",
        "\n",
        "print(CheckPermutations(\"abc\",\"bca\"))\n"
      ],
      "metadata": {
        "colab": {
          "base_uri": "https://localhost:8080/"
        },
        "id": "EZSX2bkUTfbI",
        "outputId": "1ee7da05-6972-4a35-ae47-2e84bae9bf2f"
      },
      "execution_count": null,
      "outputs": [
        {
          "output_type": "stream",
          "name": "stdout",
          "text": [
            "True\n"
          ]
        }
      ]
    },
    {
      "cell_type": "markdown",
      "source": [
        "**4**"
      ],
      "metadata": {
        "id": "gF1Nnbq1YsVH"
      }
    },
    {
      "cell_type": "code",
      "source": [
        "inputListOfNumbers= [4, 5, 6, 6, 7]\n",
        "\n",
        "def FindtheSecondLargestUniqueNumber(input):\n",
        "  uniqueNumbers = set(input)\n",
        "  largest=0\n",
        "  secondLargest=0\n",
        "  for x in uniqueNumbers:\n",
        "        if x > largest:\n",
        "            secondLargest = largest\n",
        "            largest = x\n",
        "        elif x > secondLargest:\n",
        "            secondLargest = x\n",
        "\n",
        "  return secondLargest\n",
        "\n",
        "print(\"The second largest unique number is\",FindtheSecondLargestUniqueNumber(inputListOfNumbers))\n"
      ],
      "metadata": {
        "colab": {
          "base_uri": "https://localhost:8080/"
        },
        "id": "mdveaWCwVS0Y",
        "outputId": "caae8a3e-06fc-46ad-d9c4-334a78c01d4f"
      },
      "execution_count": null,
      "outputs": [
        {
          "output_type": "stream",
          "name": "stdout",
          "text": [
            "The second largest unique number is 6\n"
          ]
        }
      ]
    },
    {
      "cell_type": "markdown",
      "source": [
        "**5. Count Distinct Pairs Problem:** Given a list of integers and a target sum, count how many distinct pairs of integers in the list sum up to the target."
      ],
      "metadata": {
        "id": "g3DpUnB2W_Sp"
      }
    },
    {
      "cell_type": "code",
      "source": [
        "nums = [1, 2, 3, 4, 3, 6]\n",
        "target = 6\n",
        "\n",
        "seen = set()\n",
        "pairs = set()\n",
        "\n",
        "for num in nums:\n",
        "    complement = target - num\n",
        "    if complement in seen:\n",
        "        pairs.add(tuple(sorted((num, complement))))\n",
        "    seen.add(num)\n",
        "\n",
        "print(len(pairs))"
      ],
      "metadata": {
        "id": "zai4-b9uWdEp"
      },
      "execution_count": null,
      "outputs": []
    },
    {
      "cell_type": "markdown",
      "source": [
        "**6. Remove Duplicates from List Problem:** Given a list of integers, remove all duplicates while maintaining the order of their first occurrence. Example: Input: [1, 2, 2, 3, 4, 5, 1] Output: [1, 2, 3, 4, 5] Explanation: Duplicates are removed, but the order of elements is preserved."
      ],
      "metadata": {
        "id": "pq6fgrDmXGfI"
      }
    },
    {
      "cell_type": "code",
      "source": [
        "duplicated_nums = [1, 2, 2, 3, 4, 5, 1]\n",
        "unique_num = set()\n",
        "result = []\n",
        "\n",
        "for x in duplicated_nums:\n",
        "    if x not in unique_num:\n",
        "        result.append(x)\n",
        "        unique_num.add(x)\n",
        "\n",
        "print(result)"
      ],
      "metadata": {
        "colab": {
          "base_uri": "https://localhost:8080/"
        },
        "id": "4Dot6cS5XJC4",
        "outputId": "d5537bc7-ab7b-4c45-8e5f-af403b813a11"
      },
      "execution_count": null,
      "outputs": [
        {
          "output_type": "stream",
          "name": "stdout",
          "text": [
            "[1, 2, 3, 4, 5]\n"
          ]
        }
      ]
    },
    {
      "cell_type": "markdown",
      "source": [
        "**7. Subsets of a List Problem:** Given a list of integers, return all possible subsets (the power set) of the list. Example: Input: [1, 2, 3] Output: [[], [1], [2], [3], [1, 2], [1, 3], [2, 3], [1, 2, 3]] Explanation: The function returns all subsets of the list"
      ],
      "metadata": {
        "id": "TiJ20WTwXLXY"
      }
    },
    {
      "cell_type": "code",
      "source": [
        "def subsets(nums):\n",
        "    result = []\n",
        "\n",
        "    def backtrack(start, path):\n",
        "        result.append(path[:])\n",
        "        for i in range(start, len(nums)):\n",
        "            path.append(nums[i])\n",
        "            backtrack(i + 1, path)\n",
        "            path.pop()\n",
        "\n",
        "    backtrack(0, [])\n",
        "    return result\n",
        "\n",
        "\n",
        "print(subsets([1, 2, 3]))"
      ],
      "metadata": {
        "colab": {
          "base_uri": "https://localhost:8080/"
        },
        "id": "bkpBm1S8XKcp",
        "outputId": "53dad64a-c7a4-4754-e151-10254dfe4acc"
      },
      "execution_count": null,
      "outputs": [
        {
          "output_type": "stream",
          "name": "stdout",
          "text": [
            "[[], [1], [1, 2], [1, 2, 3], [1, 3], [2], [2, 3], [3]]\n"
          ]
        }
      ]
    },
    {
      "cell_type": "markdown",
      "source": [
        "**8. Longest Increasing Subsequence**"
      ],
      "metadata": {
        "id": "syg0ffbSXlBQ"
      }
    },
    {
      "cell_type": "code",
      "source": [
        "def longest_seq(lst):\n",
        "    count = 1\n",
        "    for i in range(1, len(lst)):\n",
        "        if lst[i] > lst[i - 1]:\n",
        "            count += 1\n",
        "    return count\n",
        "\n",
        "print(longest_seq([10, 9, 2, 5, 3, 7, 101, 18]))"
      ],
      "metadata": {
        "id": "SlaeKL7rXQII"
      },
      "execution_count": null,
      "outputs": []
    },
    {
      "cell_type": "markdown",
      "source": [
        "**9**"
      ],
      "metadata": {
        "id": "0KTolObMXo1Y"
      }
    },
    {
      "cell_type": "code",
      "source": [
        "def max_product(lst):\n",
        "    max_prod = lst[0] * lst[1]\n",
        "    for i in range(len(lst)):\n",
        "        for j in range(i + 1, len(lst)):\n",
        "            prod = lst[i] * lst[j]\n",
        "            if prod > max_prod:\n",
        "                max_prod = prod\n",
        "    return max_prod\n",
        "\n",
        "print(max_product([1, 10, -5, 1, 100]))"
      ],
      "metadata": {
        "colab": {
          "base_uri": "https://localhost:8080/"
        },
        "id": "6g9-s0ShXsco",
        "outputId": "5816fdc0-6844-4862-e493-545c3a3a6375"
      },
      "execution_count": null,
      "outputs": [
        {
          "output_type": "stream",
          "name": "stdout",
          "text": [
            "1000\n"
          ]
        }
      ]
    },
    {
      "cell_type": "markdown",
      "source": [
        "**10**"
      ],
      "metadata": {
        "id": "eKaAkmRvXusQ"
      }
    },
    {
      "cell_type": "code",
      "source": [
        "def most_frequent(s):\n",
        "    counts = {}\n",
        "    for char in s:\n",
        "        if char in counts:\n",
        "            counts[char] += 1\n",
        "        else:\n",
        "            counts[char] = 1\n",
        "\n",
        "    max_count = max(counts.values())\n",
        "    for char in sorted(counts):\n",
        "        if counts[char] == max_count:\n",
        "            return char\n",
        "\n",
        "print(most_frequent(\"aabbbc\"))"
      ],
      "metadata": {
        "colab": {
          "base_uri": "https://localhost:8080/"
        },
        "id": "sEU-vzzuXuU4",
        "outputId": "ee60d98d-68b2-4ab6-a873-b8cf3dabb3e7"
      },
      "execution_count": null,
      "outputs": [
        {
          "output_type": "stream",
          "name": "stdout",
          "text": [
            "b\n"
          ]
        }
      ]
    },
    {
      "cell_type": "markdown",
      "source": [
        "**11**"
      ],
      "metadata": {
        "id": "X9PkXUndXzDI"
      }
    },
    {
      "cell_type": "code",
      "source": [
        "def primes(n):\n",
        "    prime_list = []\n",
        "    for num in range(2, n):\n",
        "        is_prime = True\n",
        "        for i in range(2, num):\n",
        "            if num % i == 0:\n",
        "                is_prime = False\n",
        "                break\n",
        "        if is_prime:\n",
        "            prime_list.append(num)\n",
        "    return prime_list\n",
        "\n",
        "print(primes(10))"
      ],
      "metadata": {
        "colab": {
          "base_uri": "https://localhost:8080/"
        },
        "id": "tXpY648jXxho",
        "outputId": "d15e484f-73f6-462b-bdcb-851a6d3068de"
      },
      "execution_count": null,
      "outputs": [
        {
          "output_type": "stream",
          "name": "stdout",
          "text": [
            "[2, 3, 5, 7]\n"
          ]
        }
      ]
    },
    {
      "cell_type": "markdown",
      "source": [
        "**12**"
      ],
      "metadata": {
        "id": "HusEvwTZZLgF"
      }
    },
    {
      "cell_type": "code",
      "source": [
        "def sum_of_args(*args):\n",
        "    return sum(args)\n",
        "\n",
        "\n",
        "print(sum_of_args(2, 3, 4))\n"
      ],
      "metadata": {
        "id": "-XnqZQvzZNFi"
      },
      "execution_count": null,
      "outputs": []
    },
    {
      "cell_type": "markdown",
      "source": [
        "**13**"
      ],
      "metadata": {
        "id": "Upv_8U7oZX2F"
      }
    },
    {
      "cell_type": "code",
      "source": [
        "def highest_score_student(scores):\n",
        "    return max(scores, key=scores.get)\n",
        "\n",
        "\n",
        "students = {\"Alice\": 85, \"Bob\": 90, \"Charlie\": 92}\n",
        "print(highest_score_student(students))  # Output: Charlie\n"
      ],
      "metadata": {
        "id": "rS3afLJeZZEM"
      },
      "execution_count": null,
      "outputs": []
    },
    {
      "cell_type": "markdown",
      "source": [
        "**14**"
      ],
      "metadata": {
        "id": "p6NGsX7_ZlNd"
      }
    },
    {
      "cell_type": "code",
      "source": [
        "def apply_lambda(lst, func):\n",
        "    return list(map(func, lst))\n",
        "\n",
        "\n",
        "numbers = [1, 2, 3, 4]\n",
        "squared = apply_lambda(numbers, lambda x: x ** 2)\n",
        "print(squared)\n"
      ],
      "metadata": {
        "id": "G-pwN5mWZmfU"
      },
      "execution_count": null,
      "outputs": []
    },
    {
      "cell_type": "markdown",
      "source": [
        "**15**"
      ],
      "metadata": {
        "id": "Ie8l3quqZy1h"
      }
    },
    {
      "cell_type": "code",
      "source": [
        "def calculate(*args, operation='sum'):\n",
        "    if operation == 'multiply':\n",
        "        result = 1\n",
        "        for num in args:\n",
        "            result *= num\n",
        "        return result\n",
        "    else:\n",
        "        return sum(args)\n",
        "\n",
        "\n",
        "print(calculate(1, 2, 3, 4, operation='multiply'))\n",
        "print(calculate(1, 2, 3, 4))\n"
      ],
      "metadata": {
        "id": "8Jgii9oxZ1cd"
      },
      "execution_count": null,
      "outputs": []
    }
  ]
}